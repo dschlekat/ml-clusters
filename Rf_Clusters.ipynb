{
 "cells": [
  {
   "cell_type": "markdown",
   "metadata": {},
   "source": [
    "Uses code from a notebook by Jake Vanderplas, edited by A. Mann (information below). \n",
    "\n",
    "<small><i>This notebook was put together by [Jake Vanderplas](http://www.vanderplas.com). Source and license info is on [GitHub](https://github.com/jakevdp/sklearn_tutorial/).</i></small>\n",
    "\n",
    "Written by Donovan Schlekat for ASTR 519."
   ]
  },
  {
   "cell_type": "markdown",
   "metadata": {},
   "source": [
    "# Random Forest Aging of Star Clusters"
   ]
  },
  {
   "cell_type": "markdown",
   "metadata": {},
   "source": [
    "This notebook attempts to age star clusters using supervised machine learning \"Random Forest\" methods and data from the Milky Way Star Cluster (MWSC) Catalog. \n",
    "\n",
    "<small><i>(available at: [https://heasarc.gsfc.nasa.gov/W3Browse/star-catalog/mwsc.html](url) )</i></small>"
   ]
  },
  {
   "cell_type": "code",
   "execution_count": 1,
   "metadata": {},
   "outputs": [],
   "source": [
    "# Important imports\n",
    "\n",
    "%matplotlib inline\n",
    "import numpy as np\n",
    "import matplotlib.pyplot as plt\n",
    "from scipy import stats\n",
    "import pandas as pd\n",
    "\n",
    "import warnings\n",
    "warnings.filterwarnings('ignore')\n",
    "\n",
    "from sklearn import metrics\n",
    "from sklearn.ensemble import RandomForestClassifier\n",
    "from sklearn.model_selection import train_test_split\n",
    "from sklearn.metrics import mean_squared_error"
   ]
  },
  {
   "cell_type": "code",
   "execution_count": 52,
   "metadata": {},
   "outputs": [],
   "source": [
    "# Read in the file\n",
    "# File is the entire MWSC Catalog saved in csv format\n",
    "csv_file_path = 'MWSC_Catalog.csv'\n",
    "df = pd.read_csv(csv_file_path)\n",
    "df_dropped = df.drop([\n",
    "    'broad_type',\n",
    "    'cluster_status',\n",
    "    'log_age_error',\n",
    "    'metallicity_error'\n",
    "    ], axis=1)\n",
    "\n",
    "# Filter data to only contain open clusters with metallicity data\n",
    "open_metal_df = df_dropped[\n",
    "    (df['metallicity'].notna()) &\n",
    "    (df['class'].isin(['OPEN STAR CLUSTER']))\n",
    "]\n",
    "\n",
    "# Filter data to only contain globular clusters with metallicity data\n",
    "glob_metal_df = df_dropped[\n",
    "    (df['metallicity'].notna()) &\n",
    "    (df['class'].isin(['GLOBULAR CLUSTER EXTENDED GALACTIC OR EXTRAGALACTIC']))\n",
    "]\n",
    "\n",
    "# Filter data to only contain clusters with metallicity data\n",
    "all_metal_df = df_dropped[(df['metallicity'].notna()) &\n",
    "    (df['metallicity'].notna())\n",
    "]"
   ]
  },
  {
   "cell_type": "markdown",
   "metadata": {},
   "source": [
    "### Cluster Age Classification Using Random Forests"
   ]
  },
  {
   "cell_type": "markdown",
   "metadata": {},
   "source": [
    "The following cells classify clusters into four categories: ancient (~ $10^9$ yr), old (~ $10^8$ yr), intermediate (~ $10^7$ yr), or young (~ $10^6$ yr)."
   ]
  },
  {
   "cell_type": "code",
   "execution_count": 53,
   "metadata": {},
   "outputs": [],
   "source": [
    "# Classify data into new categories described above\n",
    "def categorize_star_cluster_age(log_age):\n",
    "    if 6 <= log_age < 7:\n",
    "        return 'Young Star Cluster'\n",
    "    elif 7 <= log_age < 8:\n",
    "        return 'Intermediate-Age Star Cluster'\n",
    "    elif 8 <= log_age < 9:\n",
    "        return 'Old Star Cluster'\n",
    "    else:\n",
    "        return 'Ancient Star Cluster'\n",
    "    \n",
    "open_metal_df['age_group'] = open_metal_df['log_age'].apply(categorize_star_cluster_age)\n",
    "glob_metal_df['age_group'] = glob_metal_df['log_age'].apply(categorize_star_cluster_age)\n",
    "all_metal_df['age_group'] = all_metal_df['log_age'].apply(categorize_star_cluster_age)"
   ]
  },
  {
   "cell_type": "markdown",
   "metadata": {},
   "source": [
    "First we'll test the Random Forest Classifier on both sets of data using all of the relevant the paramaters available: galactic location, sky location, radius, number of stars, distance, reddening, and metallicity."
   ]
  },
  {
   "cell_type": "code",
   "execution_count": 37,
   "metadata": {},
   "outputs": [],
   "source": [
    "data = open_metal_df\n",
    "data = data.reset_index(drop=True)\n",
    "headers = data.columns\n",
    "\n",
    "lii = data['lii']\n",
    "bii = data['bii']\n",
    "ra = data['ra']\n",
    "dec = data['dec']\n",
    "core_radius = data['core_radius']\n",
    "num_core_stars = data['num_core_stars']\n",
    "distance = data['distance']\n",
    "reddening = data['e_bv']\n",
    "age_group = data['age_group']\n",
    "metallicity = data['metallicity']\n",
    "\n",
    "cluster_data_matrix = []\n",
    "cluster_age_matrix = []\n",
    "\n",
    "for i in range(len(data)):\n",
    "    tempList = [lii[i], bii[i], ra[i], dec[i], core_radius[i], num_core_stars[i], distance[i], reddening[i], metallicity[i]]\n",
    "    cluster_data_matrix.append(tempList)\n",
    "    cluster_age_matrix.append(age_group[i])\n",
    "\n",
    "o_cluster_train, o_cluster_test, o_age_train, o_age_test = train_test_split(cluster_data_matrix, cluster_age_matrix, test_size=0.5)\n",
    "\n",
    "model = RandomForestClassifier(max_depth=5)\n",
    "\n",
    "model.fit(o_cluster_train, o_age_train)\n",
    "\n",
    "o_predictions = model.predict(o_cluster_test)"
   ]
  },
  {
   "cell_type": "code",
   "execution_count": 38,
   "metadata": {},
   "outputs": [
    {
     "name": "stdout",
     "output_type": "stream",
     "text": [
      "Open cluster score:  0.672566371681416\n"
     ]
    }
   ],
   "source": [
    "print('Open cluster score: ',metrics.accuracy_score(o_predictions, o_age_test))"
   ]
  },
  {
   "cell_type": "code",
   "execution_count": 28,
   "metadata": {},
   "outputs": [],
   "source": [
    "data = glob_metal_df\n",
    "data = data.reset_index(drop=True)\n",
    "headers = data.columns\n",
    "\n",
    "lii = data['lii']\n",
    "bii = data['bii']\n",
    "ra = data['ra']\n",
    "dec = data['dec']\n",
    "core_radius = data['core_radius']\n",
    "num_core_stars = data['num_core_stars']\n",
    "distance = data['distance']\n",
    "reddening = data['e_bv']\n",
    "age_group = data['age_group']\n",
    "metallicity = data['metallicity']\n",
    "\n",
    "cluster_data_matrix = []\n",
    "cluster_age_matrix = []\n",
    "\n",
    "for i in range(len(data)):\n",
    "    tempList = [lii[i], bii[i], ra[i], dec[i], core_radius[i], num_core_stars[i], distance[i], reddening[i], metallicity[i]]\n",
    "    cluster_data_matrix.append(tempList)\n",
    "    cluster_age_matrix.append(age_group[i])\n",
    "\n",
    "g_cluster_train, g_cluster_test, g_age_train, g_age_test = train_test_split(cluster_data_matrix, cluster_age_matrix, test_size=0.5)\n",
    "\n",
    "model = RandomForestClassifier(max_depth=5)\n",
    "\n",
    "model.fit(g_cluster_train, g_age_train)\n",
    "\n",
    "g_predictions = model.predict(g_cluster_test)"
   ]
  },
  {
   "cell_type": "code",
   "execution_count": 29,
   "metadata": {},
   "outputs": [
    {
     "name": "stdout",
     "output_type": "stream",
     "text": [
      "Globular cluster score:  1.0\n"
     ]
    }
   ],
   "source": [
    "print('Globular cluster score: ',metrics.accuracy_score(g_predictions, g_age_test))"
   ]
  },
  {
   "cell_type": "markdown",
   "metadata": {},
   "source": [
    "Next, we'll try classification based on each parameter individually."
   ]
  },
  {
   "cell_type": "code",
   "execution_count": 31,
   "metadata": {},
   "outputs": [
    {
     "data": {
      "text/plain": [
       "[['Cluster type: ', 'Open'],\n",
       " ['lii', 0.4247787610619469],\n",
       " ['bii', 0.5221238938053098],\n",
       " ['ra', 0.49557522123893805],\n",
       " ['dec', 0.37168141592920356],\n",
       " ['core_radius', 0.4778761061946903],\n",
       " ['num_core_stars', 0.39823008849557523],\n",
       " ['distance', 0.6548672566371682],\n",
       " ['e_bv', 0.415929203539823],\n",
       " ['metallicity', 0.45132743362831856]]"
      ]
     },
     "execution_count": 31,
     "metadata": {},
     "output_type": "execute_result"
    }
   ],
   "source": [
    "data = open_metal_df\n",
    "data = data.reset_index(drop=True)\n",
    "headers = data.columns\n",
    "\n",
    "lii = data['lii']\n",
    "bii = data['bii']\n",
    "ra = data['ra']\n",
    "dec = data['dec']\n",
    "core_radius = data['core_radius']\n",
    "num_core_stars = data['num_core_stars']\n",
    "distance = data['distance']\n",
    "reddening = data['e_bv']\n",
    "age_group = data['age_group']\n",
    "metallicity = data['metallicity']\n",
    "\n",
    "param_list = [lii, bii, ra, dec, core_radius, num_core_stars, distance, reddening, metallicity]\n",
    "cluster_age_matrix = []\n",
    "param_success_matrix = []\n",
    "param_success_matrix.append(['Cluster type: ','Open'])\n",
    "\n",
    "for i in range(len(data)):\n",
    "    cluster_age_matrix.append(age_group[i])\n",
    "\n",
    "for param in param_list:\n",
    "    param_name = param.name\n",
    "    param = param.to_numpy()\n",
    "    param = param.reshape(-1, 1)\n",
    "    o_cluster_train, o_cluster_test, o_age_train, o_age_test = train_test_split(param, cluster_age_matrix, test_size=0.5)\n",
    "\n",
    "    model = RandomForestClassifier(max_depth=5)\n",
    "\n",
    "    model.fit(o_cluster_train, o_age_train)\n",
    "\n",
    "    o_predictions = model.predict(o_cluster_test)\n",
    "    accuracy = metrics.accuracy_score(o_predictions, o_age_test)\n",
    "\n",
    "    param_success_matrix.append([param_name, accuracy])\n",
    "\n",
    "param_success_matrix"
   ]
  },
  {
   "cell_type": "code",
   "execution_count": 32,
   "metadata": {},
   "outputs": [
    {
     "data": {
      "text/plain": [
       "[['Cluster type: ', 'Globular'],\n",
       " ['lii', 1.0],\n",
       " ['bii', 1.0],\n",
       " ['ra', 1.0],\n",
       " ['dec', 1.0],\n",
       " ['core_radius', 1.0],\n",
       " ['num_core_stars', 1.0],\n",
       " ['distance', 1.0],\n",
       " ['e_bv', 1.0],\n",
       " ['metallicity', 1.0]]"
      ]
     },
     "execution_count": 32,
     "metadata": {},
     "output_type": "execute_result"
    }
   ],
   "source": [
    "data = glob_metal_df\n",
    "data = data.reset_index(drop=True)\n",
    "headers = data.columns\n",
    "\n",
    "lii = data['lii']\n",
    "bii = data['bii']\n",
    "ra = data['ra']\n",
    "dec = data['dec']\n",
    "core_radius = data['core_radius']\n",
    "num_core_stars = data['num_core_stars']\n",
    "distance = data['distance']\n",
    "reddening = data['e_bv']\n",
    "age_group = data['age_group']\n",
    "metallicity = data['metallicity']\n",
    "\n",
    "param_list = [lii, bii, ra, dec, core_radius, num_core_stars, distance, reddening, metallicity]\n",
    "cluster_age_matrix = []\n",
    "param_success_matrix = []\n",
    "param_success_matrix.append(['Cluster type: ','Globular'])\n",
    "\n",
    "for i in range(len(data)):\n",
    "    cluster_age_matrix.append(age_group[i])\n",
    "\n",
    "for param in param_list:\n",
    "    param_name = param.name\n",
    "    param = param.to_numpy()\n",
    "    param = param.reshape(-1, 1)\n",
    "    g_cluster_train, g_cluster_test, g_age_train, g_age_test = train_test_split(param, cluster_age_matrix, test_size=0.5)\n",
    "\n",
    "    model = RandomForestClassifier(max_depth=5)\n",
    "\n",
    "    model.fit(g_cluster_train, g_age_train)\n",
    "\n",
    "    o_predictions = model.predict(g_cluster_test)\n",
    "    accuracy = metrics.accuracy_score(g_predictions, g_age_test)\n",
    "\n",
    "    param_success_matrix.append([param_name, accuracy])\n",
    "\n",
    "param_success_matrix"
   ]
  },
  {
   "cell_type": "markdown",
   "metadata": {},
   "source": [
    "A couple of things to note: based on our extremely arbitrarily defined categories, <i>all globular clusters are defined as ancient</i>. This is why the success score is always perfect: the algorithm recognizes that every data point, which are all globular clusters, belongs to this particular category, as there are no other categories to compete.\n",
    "\n",
    "Let's try something new: going back to the open cluster classifier, running the random forests algorithm mulitple times, and picking the best one as our \"optimal\" model."
   ]
  },
  {
   "cell_type": "code",
   "execution_count": 51,
   "metadata": {},
   "outputs": [
    {
     "name": "stdout",
     "output_type": "stream",
     "text": [
      "0.6991150442477876\n"
     ]
    }
   ],
   "source": [
    "data = open_metal_df\n",
    "data = data.reset_index(drop=True)\n",
    "headers = data.columns\n",
    "\n",
    "lii = data['lii']\n",
    "bii = data['bii']\n",
    "ra = data['ra']\n",
    "dec = data['dec']\n",
    "core_radius = data['core_radius']\n",
    "num_core_stars = data['num_core_stars']\n",
    "distance = data['distance']\n",
    "reddening = data['e_bv']\n",
    "age_group = data['age_group']\n",
    "metallicity = data['metallicity']\n",
    "\n",
    "cluster_data_matrix = []\n",
    "cluster_age_matrix = []\n",
    "\n",
    "for i in range(len(data)):\n",
    "    tempList = [lii[i], bii[i], ra[i], dec[i], core_radius[i], num_core_stars[i], distance[i], reddening[i], metallicity[i]]\n",
    "    cluster_data_matrix.append(tempList)\n",
    "    cluster_age_matrix.append(age_group[i])\n",
    "\n",
    "accuracy = []\n",
    "\n",
    "for i in range(100):\n",
    "    o_cluster_train, o_cluster_test, o_age_train, o_age_test = train_test_split(cluster_data_matrix, cluster_age_matrix, test_size=0.5)\n",
    "\n",
    "    model = RandomForestClassifier(max_depth=5)\n",
    "\n",
    "    model.fit(o_cluster_train, o_age_train)\n",
    "\n",
    "    o_predictions = model.predict(o_cluster_test)\n",
    "    accuracy.append(metrics.accuracy_score(o_predictions, o_age_test))\n",
    "\n",
    "best_model = np.max(accuracy)\n",
    "print(best_model)"
   ]
  },
  {
   "cell_type": "markdown",
   "metadata": {},
   "source": [
    "Finally, we will test the random forest on all clusters with metallicity data, globular and open."
   ]
  },
  {
   "cell_type": "code",
   "execution_count": 59,
   "metadata": {},
   "outputs": [
    {
     "name": "stdout",
     "output_type": "stream",
     "text": [
      "0.8298969072164949\n"
     ]
    }
   ],
   "source": [
    "data = all_metal_df\n",
    "data = data.reset_index(drop=True)\n",
    "headers = data.columns\n",
    "\n",
    "lii = data['lii']\n",
    "bii = data['bii']\n",
    "ra = data['ra']\n",
    "dec = data['dec']\n",
    "core_radius = data['core_radius']\n",
    "num_core_stars = data['num_core_stars']\n",
    "distance = data['distance']\n",
    "reddening = data['e_bv']\n",
    "age_group = data['age_group']\n",
    "metallicity = data['metallicity']\n",
    "\n",
    "cluster_data_matrix = []\n",
    "cluster_age_matrix = []\n",
    "\n",
    "for i in range(len(data)):\n",
    "    tempList = [lii[i], bii[i], ra[i], dec[i], core_radius[i], num_core_stars[i], distance[i], reddening[i], metallicity[i]]\n",
    "    cluster_data_matrix.append(tempList)\n",
    "    cluster_age_matrix.append(age_group[i])\n",
    "\n",
    "accuracy = []\n",
    "\n",
    "for i in range(100):\n",
    "    a_cluster_train, a_cluster_test, a_age_train, a_age_test = train_test_split(cluster_data_matrix, cluster_age_matrix, test_size=0.5)\n",
    "\n",
    "    model = RandomForestClassifier(max_depth=5)\n",
    "\n",
    "    model.fit(a_cluster_train, a_age_train)\n",
    "\n",
    "    a_predictions = model.predict(a_cluster_test)\n",
    "    accuracy.append(metrics.accuracy_score(a_predictions, a_age_test))\n",
    "\n",
    "best_model = np.max(accuracy)\n",
    "print(best_model)"
   ]
  },
  {
   "cell_type": "markdown",
   "metadata": {},
   "source": [
    "And now the same data set, but testing each parameter individually:"
   ]
  },
  {
   "cell_type": "code",
   "execution_count": 60,
   "metadata": {},
   "outputs": [
    {
     "data": {
      "text/plain": [
       "[['Cluster type: ', 'All'],\n",
       " ['lii', 0.4948453608247423],\n",
       " ['bii', 0.4484536082474227],\n",
       " ['ra', 0.42783505154639173],\n",
       " ['dec', 0.4742268041237113],\n",
       " ['core_radius', 0.3865979381443299],\n",
       " ['num_core_stars', 0.5257731958762887],\n",
       " ['distance', 0.4690721649484536],\n",
       " ['e_bv', 0.4536082474226804],\n",
       " ['metallicity', 0.4690721649484536]]"
      ]
     },
     "execution_count": 60,
     "metadata": {},
     "output_type": "execute_result"
    }
   ],
   "source": [
    "data = all_metal_df\n",
    "data = data.reset_index(drop=True)\n",
    "headers = data.columns\n",
    "\n",
    "lii = data['lii']\n",
    "bii = data['bii']\n",
    "ra = data['ra']\n",
    "dec = data['dec']\n",
    "core_radius = data['core_radius']\n",
    "num_core_stars = data['num_core_stars']\n",
    "distance = data['distance']\n",
    "reddening = data['e_bv']\n",
    "age_group = data['age_group']\n",
    "metallicity = data['metallicity']\n",
    "\n",
    "param_list = [lii, bii, ra, dec, core_radius, num_core_stars, distance, reddening, metallicity]\n",
    "cluster_age_matrix = []\n",
    "param_success_matrix = []\n",
    "param_success_matrix.append(['Cluster type: ','All'])\n",
    "\n",
    "for i in range(len(data)):\n",
    "    cluster_age_matrix.append(age_group[i])\n",
    "\n",
    "for param in param_list:\n",
    "    param_name = param.name\n",
    "    param = param.to_numpy()\n",
    "    param = param.reshape(-1, 1)\n",
    "    a_cluster_train, a_cluster_test, a_age_train, a_age_test = train_test_split(param, cluster_age_matrix, test_size=0.5)\n",
    "\n",
    "    model = RandomForestClassifier(max_depth=5)\n",
    "\n",
    "    model.fit(a_cluster_train, a_age_train)\n",
    "\n",
    "    o_predictions = model.predict(a_cluster_test)\n",
    "    accuracy = metrics.accuracy_score(a_predictions, a_age_test)\n",
    "\n",
    "    param_success_matrix.append([param_name, accuracy])\n",
    "\n",
    "param_success_matrix"
   ]
  }
 ],
 "metadata": {
  "kernelspec": {
   "display_name": "astro",
   "language": "python",
   "name": "python3"
  },
  "language_info": {
   "codemirror_mode": {
    "name": "ipython",
    "version": 3
   },
   "file_extension": ".py",
   "mimetype": "text/x-python",
   "name": "python",
   "nbconvert_exporter": "python",
   "pygments_lexer": "ipython3",
   "version": "3.8.17"
  }
 },
 "nbformat": 4,
 "nbformat_minor": 2
}
