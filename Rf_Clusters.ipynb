{
 "cells": [
  {
   "cell_type": "markdown",
   "metadata": {},
   "source": [
    "Uses code from a notebook by Jake Vanderplas, edited by A. Mann (information below). \n",
    "\n",
    "<small><i>This notebook was put together by [Jake Vanderplas](http://www.vanderplas.com). Source and license info is on [GitHub](https://github.com/jakevdp/sklearn_tutorial/).</i></small>\n",
    "\n",
    "Written by Donovan Schlekat for ASTR 519."
   ]
  },
  {
   "cell_type": "markdown",
   "metadata": {},
   "source": [
    "# Random Forest Aging of Star Clusters"
   ]
  },
  {
   "cell_type": "markdown",
   "metadata": {},
   "source": [
    "This notebook attempts to age star clusters using supervised machine learning \"Random Forest\" methods and data from the Milky Way Star Cluster (MWSC) Catalog. \n",
    "\n",
    "<small><i>(available at: [https://heasarc.gsfc.nasa.gov/W3Browse/star-catalog/mwsc.html](url) )</i></small>"
   ]
  },
  {
   "cell_type": "code",
   "execution_count": 8,
   "metadata": {},
   "outputs": [],
   "source": [
    "# Important imports\n",
    "\n",
    "%matplotlib inline\n",
    "import numpy as np\n",
    "import matplotlib.pyplot as plt\n",
    "from scipy import stats\n",
    "import pandas as pd\n",
    "\n",
    "import warnings\n",
    "warnings.filterwarnings('ignore')\n",
    "\n",
    "from sklearn import metrics\n",
    "from sklearn.ensemble import RandomForestClassifier"
   ]
  },
  {
   "cell_type": "code",
   "execution_count": 16,
   "metadata": {},
   "outputs": [],
   "source": [
    "# Read in the file\n",
    "# File is the entire MWSC Catalog saved in csv format\n",
    "csv_file_path = 'MWSC_Catalog.csv'\n",
    "df = pd.read_csv(csv_file_path)\n",
    "df_dropped = df.drop([\n",
    "    'broad_type',\n",
    "    'cluster_status',\n",
    "    'log_age_error',\n",
    "    'metallicity_error'\n",
    "    ], axis=1)\n",
    "\n",
    "# Filter data to only contain open clusters with metallicity data\n",
    "open_metal_df = df_dropped[\n",
    "    (df['metallicity'].notna()) &\n",
    "    (df['class'].isin(['OPEN STAR CLUSTER']))\n",
    "]\n",
    "\n",
    "# Filter data to only contain globular clusters with metallicity data\n",
    "glob_metal_df = df_dropped[\n",
    "    (df['metallicity'].notna()) &\n",
    "    (df['class'].isin(['GLOBULAR CLUSTER EXTENDED GALACTIC OR EXTRAGALACTIC']))\n",
    "]"
   ]
  },
  {
   "cell_type": "markdown",
   "metadata": {},
   "source": [
    "### Cluster Age Classification Using Random Forests"
   ]
  },
  {
   "cell_type": "markdown",
   "metadata": {},
   "source": [
    "The following cells classify clusters into four categories: ancient (~ $10^9$ yr), old (~ $10^8$ yr), intermediate (~ $10^7$ yr), or young (~ $10^6$ yr)."
   ]
  },
  {
   "cell_type": "code",
   "execution_count": 17,
   "metadata": {},
   "outputs": [],
   "source": [
    "# Classify data into new categories described above\n",
    "def categorize_star_cluster_age(log_age):\n",
    "    if 6 <= log_age < 7:\n",
    "        return 'Young Star Cluster'\n",
    "    elif 7 <= log_age < 8:\n",
    "        return 'Intermediate-Age Star Cluster'\n",
    "    elif 8 <= log_age < 9:\n",
    "        return 'Old Star Cluster'\n",
    "    else:\n",
    "        return 'Ancient Star Cluster'\n",
    "    \n",
    "open_metal_df['age_group'] = open_metal_df['log_age'].apply(categorize_star_cluster_age)"
   ]
  },
  {
   "cell_type": "code",
   "execution_count": 18,
   "metadata": {},
   "outputs": [
    {
     "name": "stdout",
     "output_type": "stream",
     "text": [
      "Index(['name', 'ra', 'dec', 'lii', 'bii', 'core_radius', 'central_radius',\n",
      "       'cluster_radius', 'num_core_stars', 'num_central_stars',\n",
      "       'num_cluster_stars', 'distance', 'e_bv', 'log_age', 'reference_code',\n",
      "       'cluster_type', 'metallicity', 'class', 'age_group'],\n",
      "      dtype='object')\n",
      "225\n"
     ]
    }
   ],
   "source": [
    "headers = open_metal_df.columns\n",
    "print(headers)\n",
    "X = open_metal_df.to_numpy()\n",
    "print(len(X))"
   ]
  },
  {
   "cell_type": "code",
   "execution_count": null,
   "metadata": {},
   "outputs": [],
   "source": []
  }
 ],
 "metadata": {
  "kernelspec": {
   "display_name": "astro",
   "language": "python",
   "name": "python3"
  },
  "language_info": {
   "codemirror_mode": {
    "name": "ipython",
    "version": 3
   },
   "file_extension": ".py",
   "mimetype": "text/x-python",
   "name": "python",
   "nbconvert_exporter": "python",
   "pygments_lexer": "ipython3",
   "version": "3.8.17"
  }
 },
 "nbformat": 4,
 "nbformat_minor": 2
}
