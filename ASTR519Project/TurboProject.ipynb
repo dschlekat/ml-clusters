{
 "cells": [
  {
   "cell_type": "code",
   "execution_count": 1108,
   "metadata": {},
   "outputs": [],
   "source": [
    "%matplotlib inline\n",
    "import numpy as np\n",
    "import matplotlib.pyplot as plt\n",
    "from scipy import stats\n",
    "import pandas as pd\n",
    "\n",
    "import warnings\n",
    "warnings.filterwarnings('ignore')\n",
    "\n",
    "from sklearn.datasets import make_blobs\n",
    "\n",
    "from sklearn.tree import DecisionTreeClassifier\n",
    "\n",
    "from sklearn.model_selection import train_test_split\n",
    "from sklearn.tree import DecisionTreeRegressor\n",
    "from sklearn.metrics import mean_squared_error"
   ]
  },
  {
   "cell_type": "code",
   "execution_count": 1109,
   "metadata": {},
   "outputs": [],
   "source": [
    "## First I want to read in all the data \n",
    "\n",
    "data = pd.read_csv('/Users/loggy/Desktop/Astr519_Homework/ASTR519Project/MWSC Catalogue - Sheet1.csv')\n",
    "\n",
    "lii = data['lii']\n",
    "bii = data['bii']\n",
    "ra = data['ra']\n",
    "dec = data['dec']\n",
    "core_radius = data['core_radius']\n",
    "num_core_stars = data['num_core_stars']\n",
    "distance = data['distance']\n",
    "reddening = data['e_bv']\n",
    "log_age = data['log_age']\n",
    "metallicity = data['metallicity']\n",
    "classification = data['class']\n",
    "\n",
    "cluster_data_matrix = []\n",
    "cluster_age_matrix = []\n",
    "## Populate the data matrix \n",
    "\n",
    "sourceLength = len(metallicity)\n",
    "\n",
    "for i in range(sourceLength):\n",
    "    if np.isnan(metallicity[i] or lii[i] or bii[i] or ra[i] or dec[i] or core_radius[i] or num_core_stars[i] or distance[i] or reddening[i] or log_age[i]) == False:\n",
    "        if classification[i] == 'OPEN STAR CLUSTER':\n",
    "            tempList = [lii[i], bii[i], ra[i], dec[i], core_radius[i], num_core_stars[i], distance[i], reddening[i], metallicity[i]]\n",
    "            cluster_data_matrix.append(tempList)\n",
    "            cluster_age_matrix.append(log_age[i])\n",
    "\n",
    "\n"
   ]
  },
  {
   "cell_type": "code",
   "execution_count": 1110,
   "metadata": {},
   "outputs": [
    {
     "name": "stdout",
     "output_type": "stream",
     "text": [
      "Mean Squared Error: 0.43044588396500094\n"
     ]
    }
   ],
   "source": [
    "## Now that we have our data cluster matrix we can do stuff with it!! \n",
    "\n",
    "## First we will start with training stuff\n",
    "\n",
    "cluster_train, cluster_test, age_train, age_test = train_test_split(cluster_data_matrix, cluster_age_matrix, test_size=0.5)\n",
    "\n",
    "# Create a decision tree regressor\n",
    "model = DecisionTreeRegressor(max_depth=5)\n",
    "\n",
    "# Train the model\n",
    "model.fit(cluster_train, age_train)\n",
    "\n",
    "# Make predictions on the test set\n",
    "predictions = model.predict(cluster_test)\n",
    "\n",
    "mse = mean_squared_error(age_test, predictions)\n",
    "# print(age_test)\n",
    "# print(predictions)\n",
    "print(f'Mean Squared Error: {mse}')"
   ]
  },
  {
   "cell_type": "code",
   "execution_count": 1111,
   "metadata": {},
   "outputs": [
    {
     "name": "stdout",
     "output_type": "stream",
     "text": [
      "Mean Squared Error: 0.5909877748091125\n"
     ]
    }
   ],
   "source": [
    "## that was neat and also the error was not too bad i think (might have to check if we have to change it from log or not but I believe not)\n",
    "\n",
    "## Now we can test removing variables\n",
    "\n",
    "# what if we removed ra, dec, distance, lii, bii, and reddening\n",
    "\n",
    "cluster_data_matrix_supreme = []\n",
    "cluster_age_matrix_supreme = []\n",
    "\n",
    "for i in range(sourceLength):\n",
    "    if np.isnan(metallicity[i] or lii[i] or bii[i] or ra[i] or dec[i] or core_radius[i] or num_core_stars[i] or distance[i] or reddening[i] or log_age[i]) == False:\n",
    "        if classification[i] == 'OPEN STAR CLUSTER':\n",
    "            tempList = [core_radius[i], num_core_stars[i], metallicity[i]]\n",
    "            cluster_data_matrix_supreme.append(tempList)\n",
    "            cluster_age_matrix_supreme.append(log_age[i])\n",
    "\n",
    "cluster_train, cluster_test, age_train, age_test = train_test_split(cluster_data_matrix_supreme, cluster_age_matrix_supreme, test_size=0.5)\n",
    "\n",
    "# Create a decision tree regressor\n",
    "model = DecisionTreeRegressor(max_depth=5)\n",
    "\n",
    "# Train the model\n",
    "model.fit(cluster_train, age_train)\n",
    "\n",
    "# Make predictions on the test set\n",
    "predictions = model.predict(cluster_test)\n",
    "\n",
    "mse = mean_squared_error(age_test, predictions)\n",
    "# print(age_test)\n",
    "# print(predictions)\n",
    "print(f'Mean Squared Error: {mse}')\n",
    "\n",
    "# why is it sorta worse, maybe galactic coordinates are at play here due to a trend stemming from virialization, lets try this again"
   ]
  },
  {
   "cell_type": "code",
   "execution_count": 1112,
   "metadata": {},
   "outputs": [
    {
     "name": "stdout",
     "output_type": "stream",
     "text": [
      "Mean Squared Error: 0.5308740409571773\n"
     ]
    }
   ],
   "source": [
    "cluster_data_matrix_supreme = []\n",
    "cluster_age_matrix_supreme = []\n",
    "\n",
    " ## Maybe latitude helped a bit\n",
    "\n",
    "for i in range(sourceLength):\n",
    "    if np.isnan(metallicity[i] or lii[i] or bii[i] or ra[i] or dec[i] or core_radius[i] or num_core_stars[i] or distance[i] or reddening[i] or log_age[i]) == False:\n",
    "        if classification[i] == 'OPEN STAR CLUSTER':\n",
    "            tempList = [bii[i], core_radius[i], num_core_stars[i], metallicity[i]]\n",
    "            cluster_data_matrix_supreme.append(tempList)\n",
    "            cluster_age_matrix_supreme.append(log_age[i])\n",
    "\n",
    "cluster_train, cluster_test, age_train, age_test = train_test_split(cluster_data_matrix_supreme, cluster_age_matrix_supreme, test_size=0.5)\n",
    "\n",
    "# Create a decision tree regressor\n",
    "model = DecisionTreeRegressor(max_depth=5)\n",
    "\n",
    "# Train the model\n",
    "model.fit(cluster_train, age_train)\n",
    "\n",
    "# Make predictions on the test set\n",
    "predictions = model.predict(cluster_test)\n",
    "\n",
    "mse = mean_squared_error(age_test, predictions)\n",
    "# print(age_test)\n",
    "# print(predictions)\n",
    "print(f'Mean Squared Error: {mse}')\n",
    "\n",
    "## definitley better than before but not as good as we want"
   ]
  },
  {
   "cell_type": "code",
   "execution_count": 1113,
   "metadata": {},
   "outputs": [
    {
     "name": "stdout",
     "output_type": "stream",
     "text": [
      "Mean Squared Error: 0.3699462222797186\n"
     ]
    }
   ],
   "source": [
    "cluster_data_matrix_supreme = []\n",
    "cluster_age_matrix_supreme = []\n",
    "\n",
    "for i in range(sourceLength):\n",
    "    if np.isnan(metallicity[i] or lii[i] or bii[i] or ra[i] or dec[i] or core_radius[i] or num_core_stars[i] or distance[i] or reddening[i] or log_age[i]) == False:\n",
    "        if classification[i] == 'OPEN STAR CLUSTER':\n",
    "            tempList = [bii[i], core_radius[i], num_core_stars[i], metallicity[i], distance[i]]\n",
    "            cluster_data_matrix_supreme.append(tempList)\n",
    "            cluster_age_matrix_supreme.append(log_age[i])\n",
    "\n",
    "cluster_train, cluster_test, age_train, age_test = train_test_split(cluster_data_matrix_supreme, cluster_age_matrix_supreme, test_size=0.5)\n",
    "\n",
    "# Create a decision tree regressor\n",
    "model = DecisionTreeRegressor(max_depth=5)\n",
    "\n",
    "# Train the model\n",
    "model.fit(cluster_train, age_train)\n",
    "\n",
    "# Make predictions on the test set\n",
    "predictions = model.predict(cluster_test)\n",
    "\n",
    "mse = mean_squared_error(age_test, predictions)\n",
    "# print(age_test)\n",
    "# print(predictions)\n",
    "print(f'Mean Squared Error: {mse}')\n",
    "\n",
    "# adding distance in made that way better wtf"
   ]
  },
  {
   "cell_type": "code",
   "execution_count": 1114,
   "metadata": {},
   "outputs": [
    {
     "name": "stdout",
     "output_type": "stream",
     "text": [
      "Mean Squared Error: 0.5514289965237567\n"
     ]
    }
   ],
   "source": [
    "cluster_data_matrix_supreme = []\n",
    "cluster_age_matrix_supreme = []\n",
    "\n",
    "for i in range(sourceLength):\n",
    "    if np.isnan(metallicity[i] or lii[i] or bii[i] or ra[i] or dec[i] or core_radius[i] or num_core_stars[i] or distance[i] or reddening[i] or log_age[i]) == False:\n",
    "        if classification[i] == 'OPEN STAR CLUSTER':\n",
    "            tempList = [metallicity[i]]\n",
    "            cluster_data_matrix_supreme.append(tempList)\n",
    "            cluster_age_matrix_supreme.append(log_age[i])\n",
    "\n",
    "cluster_train, cluster_test, age_train, age_test = train_test_split(cluster_data_matrix_supreme, cluster_age_matrix_supreme, test_size=0.5)\n",
    "\n",
    "# Create a decision tree regressor\n",
    "model = DecisionTreeRegressor(max_depth=5)\n",
    "\n",
    "# Train the model\n",
    "model.fit(cluster_train, age_train)\n",
    "\n",
    "# Make predictions on the test set\n",
    "predictions = model.predict(cluster_test)\n",
    "\n",
    "mse = mean_squared_error(age_test, predictions)\n",
    "# print(age_test)\n",
    "# print(predictions)\n",
    "print(f'Mean Squared Error: {mse}')\n",
    "\n",
    "# metallicity does ok on its own "
   ]
  },
  {
   "cell_type": "code",
   "execution_count": 1115,
   "metadata": {},
   "outputs": [
    {
     "name": "stdout",
     "output_type": "stream",
     "text": [
      "Mean Squared Error: 0.37088643939598764\n"
     ]
    }
   ],
   "source": [
    "cluster_data_matrix_supreme = []\n",
    "cluster_age_matrix_supreme = []\n",
    "\n",
    "for i in range(sourceLength):\n",
    "    if np.isnan(metallicity[i] or lii[i] or bii[i] or ra[i] or dec[i] or core_radius[i] or num_core_stars[i] or distance[i] or reddening[i] or log_age[i]) == False:\n",
    "        if classification[i] == 'OPEN STAR CLUSTER':\n",
    "            tempList = [distance[i]]\n",
    "            cluster_data_matrix_supreme.append(tempList)\n",
    "            cluster_age_matrix_supreme.append(log_age[i])\n",
    "\n",
    "cluster_train, cluster_test, age_train, age_test = train_test_split(cluster_data_matrix_supreme, cluster_age_matrix_supreme, test_size=0.5)\n",
    "\n",
    "# Create a decision tree regressor\n",
    "model = DecisionTreeRegressor(max_depth=5)\n",
    "\n",
    "# Train the model\n",
    "model.fit(cluster_train, age_train)\n",
    "\n",
    "# Make predictions on the test set\n",
    "predictions = model.predict(cluster_test)\n",
    "\n",
    "mse = mean_squared_error(age_test, predictions)\n",
    "# print(age_test)\n",
    "# print(predictions)\n",
    "print(f'Mean Squared Error: {mse}')\n",
    "\n",
    "##oddly enough there seems to be some strong coorellation between age ans distance???????"
   ]
  },
  {
   "cell_type": "code",
   "execution_count": 1116,
   "metadata": {},
   "outputs": [
    {
     "name": "stdout",
     "output_type": "stream",
     "text": [
      "Mean Squared Error: 0.5021635359245856\n"
     ]
    }
   ],
   "source": [
    "## Now, not too many of these stars had metallicity values, so lets try to expand our set\n",
    "\n",
    "cluster_data_matrix_supreme = []\n",
    "cluster_age_matrix_supreme = []\n",
    "\n",
    "\n",
    "for i in range(sourceLength):\n",
    "    if np.isnan(lii[i] or bii[i] or ra[i] or dec[i] or core_radius[i] or num_core_stars[i] or distance[i] or reddening[i] or log_age[i]) == False:\n",
    "        if classification[i] == 'OPEN STAR CLUSTER':\n",
    "            tempList = [lii[i], bii[i], ra[i], dec[i], core_radius[i], num_core_stars[i], distance[i], reddening[i]]\n",
    "            cluster_data_matrix_supreme.append(tempList)\n",
    "            cluster_age_matrix_supreme.append(log_age[i])\n",
    "\n",
    "cluster_train, cluster_test, age_train, age_test = train_test_split(cluster_data_matrix_supreme, cluster_age_matrix_supreme, test_size=0.5)\n",
    "\n",
    "# Create a decision tree regressor\n",
    "model = DecisionTreeRegressor(max_depth=5)\n",
    "\n",
    "# Train the model\n",
    "model.fit(cluster_train, age_train)\n",
    "\n",
    "# Make predictions on the test set\n",
    "predictions = model.predict(cluster_test)\n",
    "\n",
    "mse = mean_squared_error(age_test, predictions)\n",
    "# print(age_test)\n",
    "# print(predictions)\n",
    "print(f'Mean Squared Error: {mse}')"
   ]
  },
  {
   "cell_type": "code",
   "execution_count": 1126,
   "metadata": {},
   "outputs": [
    {
     "name": "stdout",
     "output_type": "stream",
     "text": [
      "Mean Squared Error: 0.497713814964941\n"
     ]
    }
   ],
   "source": [
    "## Now, not too many of these stars had metallicity values, so lets try to expand our set by removing metallicity as a parameter\n",
    "\n",
    "cluster_data_matrix_supreme = []\n",
    "cluster_age_matrix_supreme = []\n",
    "\n",
    "\n",
    "for i in range(sourceLength):\n",
    "    if np.isnan(lii[i] or bii[i] or ra[i] or dec[i] or core_radius[i] or num_core_stars[i] or distance[i] or reddening[i] or log_age[i]) == False:\n",
    "        if classification[i] == 'OPEN STAR CLUSTER':\n",
    "            tempList = [lii[i], bii[i], core_radius[i], num_core_stars[i], reddening[i]]\n",
    "            cluster_data_matrix_supreme.append(tempList)\n",
    "            cluster_age_matrix_supreme.append(log_age[i])\n",
    "\n",
    "cluster_train, cluster_test, age_train, age_test = train_test_split(cluster_data_matrix_supreme, cluster_age_matrix_supreme, test_size=0.5)\n",
    "# Create a decision tree regressor\n",
    "model = DecisionTreeRegressor(max_depth=5)\n",
    "\n",
    "# Train the model\n",
    "model.fit(cluster_train, age_train)\n",
    "\n",
    "# Make predictions on the test set\n",
    "predictions = model.predict(cluster_test)\n",
    "\n",
    "mse = mean_squared_error(age_test, predictions)\n",
    "# print(age_test)\n",
    "# print(predictions)\n",
    "print(f'Mean Squared Error: {mse}')"
   ]
  },
  {
   "cell_type": "code",
   "execution_count": 1118,
   "metadata": {},
   "outputs": [
    {
     "name": "stdout",
     "output_type": "stream",
     "text": [
      "Mean Squared Error: 0.6757070310199671\n"
     ]
    }
   ],
   "source": [
    "## Now, not too many of these stars had metallicity values, so lets try to expand our set\n",
    "\n",
    "cluster_data_matrix_supreme = []\n",
    "cluster_age_matrix_supreme = []\n",
    "\n",
    "\n",
    "for i in range(sourceLength):\n",
    "    if np.isnan(lii[i] or bii[i] or ra[i] or dec[i] or core_radius[i] or num_core_stars[i] or distance[i] or reddening[i] or log_age[i]) == False:\n",
    "        if classification[i] == 'OPEN STAR CLUSTER':\n",
    "            tempList = [distance[i]]\n",
    "            cluster_data_matrix_supreme.append(tempList)\n",
    "            cluster_age_matrix_supreme.append(log_age[i])\n",
    "\n",
    "cluster_train, cluster_test, age_train, age_test = train_test_split(cluster_data_matrix_supreme, cluster_age_matrix_supreme, test_size=0.5)\n",
    "\n",
    "# Create a decision tree regressor\n",
    "model = DecisionTreeRegressor(max_depth=5)\n",
    "\n",
    "# Train the model\n",
    "model.fit(cluster_train, age_train)\n",
    "\n",
    "# Make predictions on the test set\n",
    "predictions = model.predict(cluster_test)\n",
    "\n",
    "mse = mean_squared_error(age_test, predictions)\n",
    "# print(age_test)\n",
    "# print(predictions)\n",
    "print(f'Mean Squared Error: {mse}')\n",
    "\n",
    "## Ok at least this is worse now"
   ]
  }
 ],
 "metadata": {
  "kernelspec": {
   "display_name": "venv",
   "language": "python",
   "name": "python3"
  },
  "language_info": {
   "codemirror_mode": {
    "name": "ipython",
    "version": 3
   },
   "file_extension": ".py",
   "mimetype": "text/x-python",
   "name": "python",
   "nbconvert_exporter": "python",
   "pygments_lexer": "ipython3",
   "version": "3.9.13"
  }
 },
 "nbformat": 4,
 "nbformat_minor": 2
}
