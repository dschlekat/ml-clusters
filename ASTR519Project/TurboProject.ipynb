{
 "cells": [
  {
   "cell_type": "code",
   "execution_count": 3,
   "metadata": {},
   "outputs": [],
   "source": [
    "%matplotlib inline\n",
    "import numpy as np\n",
    "import matplotlib.pyplot as plt\n",
    "from scipy import stats\n",
    "import pandas as pd\n",
    "\n",
    "plt.style.use('seaborn')\n",
    "\n",
    "import warnings\n",
    "warnings.filterwarnings('ignore')\n",
    "\n",
    "from sklearn.datasets import make_blobs\n",
    "\n",
    "from sklearn.tree import DecisionTreeClassifier"
   ]
  },
  {
   "cell_type": "code",
   "execution_count": 5,
   "metadata": {},
   "outputs": [
    {
     "name": "stdout",
     "output_type": "stream",
     "text": [
      "0         NaN\n",
      "1      -0.099\n",
      "2      -0.160\n",
      "3      -0.063\n",
      "4         NaN\n",
      "        ...  \n",
      "3203      NaN\n",
      "3204      NaN\n",
      "3205   -1.645\n",
      "3206      NaN\n",
      "3207      NaN\n",
      "Name: metallicity, Length: 3208, dtype: float64\n"
     ]
    }
   ],
   "source": [
    "## First I want to reawd in all the data \n",
    "\n",
    "data = pd.read_csv('/Users/loggy/Desktop/Astr519_Homework/ASTR519Project/MWSC Catalogue - Sheet1.csv')\n",
    "\n",
    "lii = data['lii']\n",
    "bii = data['bii']\n",
    "ra = data['ra']\n",
    "dec = data['dec']\n",
    "core_radius = data['core_radius']\n",
    "num_core_stars = data['num_core_stars']\n",
    "distance = data['distance']\n",
    "reddening = data['e_bv']\n",
    "log_age = data['log_age']\n",
    "metallicity = data['metallicity']\n",
    "\n",
    "cluster_data_matrix = []\n",
    "\n",
    "## Populate the data matrix \n",
    "\n",
    "sourceLength = len(metallicity)\n",
    "\n",
    "for i in range(sourceLength):\n",
    "    if metallicity[i] & lii[i] & bii[i] & ra[i] & dec[i] & core_radius[i] & num_core_stars[i] & distance[i] & reddening[i] & log_age[i] != metallicity[0]:\n",
    "        tempList = [lii[i], bii[i], ra[i], dec[i], core_radius[i], num_core_stars[i], distance[i], reddening[i], log_age[i], metallicity[i]]\n",
    "        cluster_data_matrix.append(tempList)\n",
    "\n",
    "\n"
   ]
  }
 ],
 "metadata": {
  "kernelspec": {
   "display_name": "venv",
   "language": "python",
   "name": "python3"
  },
  "language_info": {
   "codemirror_mode": {
    "name": "ipython",
    "version": 3
   },
   "file_extension": ".py",
   "mimetype": "text/x-python",
   "name": "python",
   "nbconvert_exporter": "python",
   "pygments_lexer": "ipython3",
   "version": "3.9.13"
  }
 },
 "nbformat": 4,
 "nbformat_minor": 2
}
